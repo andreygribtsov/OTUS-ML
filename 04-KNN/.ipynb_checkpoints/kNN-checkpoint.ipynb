{
 "cells": [
  {
   "cell_type": "code",
   "execution_count": 4,
   "id": "148e27ea",
   "metadata": {},
   "outputs": [],
   "source": [
    "import pandas as pd\n",
    "import numpy as np\n",
    "from X import datasets\n",
    "import seaborn as sns\n",
    "import matplotlib\n",
    "import matplotlib.pyplot as plt"
   ]
  },
  {
   "cell_type": "code",
   "execution_count": 70,
   "id": "ef665122",
   "metadata": {},
   "outputs": [
    {
     "data": {
      "text/plain": [
       "(array([[ 9.82093984,  4.69205788],\n",
       "        [12.10253304, -2.99886117],\n",
       "        [11.83841725,  1.90619576],\n",
       "        [ 9.42348287,  2.11197664],\n",
       "        [ 9.22668298,  0.15348652]]),\n",
       " array([1, 0, 1, 1, 1]))"
      ]
     },
     "execution_count": 70,
     "metadata": {},
     "output_type": "execute_result"
    }
   ],
   "source": [
    "X, y = datasets.make_blobs(n_samples=200, random_state=4, centers=2, cluster_std=2)\n",
    "X[:5], y[:5]"
   ]
  },
  {
   "cell_type": "code",
   "execution_count": 71,
   "id": "9bfb1bb7",
   "metadata": {},
   "outputs": [
    {
     "data": {
      "text/plain": [
       "<matplotlib.collections.PathCollection at 0x1bf1b48c3a0>"
      ]
     },
     "execution_count": 71,
     "metadata": {},
     "output_type": "execute_result"
    },
    {
     "data": {
      "image/png": "[encoded data removed]",
      "text/plain": [
       "<Figure size 432x288 with 1 Axes>"
      ]
     },
     "metadata": {
      "needs_background": "light"
     },
     "output_type": "display_data"
    }
   ],
   "source": [
    "# plt.scatter(X[:,:1], X[:, 1:])\n",
    "plt.scatter(X[:,0], X[:, 1])"
   ]
  },
  {
   "cell_type": "code",
   "execution_count": 72,
   "id": "cb214178",
   "metadata": {},
   "outputs": [],
   "source": [
    "def get_class_colour(class_label):\n",
    "    return 'green' if class_label else 'blue'"
   ]
  },
  {
   "cell_type": "code",
   "execution_count": 73,
   "id": "da6e71d9",
   "metadata": {},
   "outputs": [],
   "source": [
    "def plot_points(X, y, new_points=None, new_prediction=None, nearest_points=None, file_name=None):\n",
    "    plt.figure(figsize=(8, 8))\n",
    "    plt.scatter(X[:, 0], X[:, 1], c=[get_class_colour(y_i) for y_i in y], s=100, edgecolor='black', alpha=0.3)\n",
    "    \n",
    "    if new_points is not None:\n",
    "        plt.scatter(new_points[:, 0], new_points[:, 1], c='black', s=100, edgecolor='black')\n",
    "    \n",
    "    if new_prediction is not None:\n",
    "        plt.scatter(new_points[:, 0], new_points[:, 1], c=[get_class_colour(y_i) for y_i in new_prediction], s=100, edgecolor='black')\n",
    "        \n",
    "    if nearest_points is not None:\n",
    "        plt.scatter(nearest_points[:, 0], nearest_points[:, 1], c='red', s=100, edgecolor='black')\n",
    "    \n",
    "    plt.title(\"Classification problem \\n What is the color for the new (x1, x2) pair?\")\n",
    "    plt.xlabel(\"x1 (feature)\")\n",
    "    plt.ylabel(\"x2 (feature)\")\n",
    "    \n",
    "    if file_name:\n",
    "        plt.savefig(filename)"
   ]
  },
  {
   "cell_type": "code",
   "execution_count": null,
   "id": "4c9a3b21",
   "metadata": {},
   "outputs": [],
   "source": []
  }
 ],
 "metadata": {
  "kernelspec": {
   "display_name": "Python 3",
   "language": "python",
   "name": "python3"
  },
  "language_info": {
   "codemirror_mode": {
    "name": "ipython",
    "version": 3
   },
   "file_extension": ".py",
   "mimetype": "text/x-python",
   "name": "python",
   "nbconvert_exporter": "python",
   "pygments_lexer": "ipython3",
   "version": "3.8.8"
  }
 },
 "nbformat": 4,
 "nbformat_minor": 5
}
