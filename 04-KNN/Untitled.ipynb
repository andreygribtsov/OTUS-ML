{
 "cells": [
  {
   "cell_type": "code",
   "execution_count": 4,
   "id": "86a88c3f",
   "metadata": {},
   "outputs": [],
   "source": [
    "import pandas as pd\n",
    "import numpy as np\n",
    "from X import datasets\n",
    "import seaborn as sns\n",
    "import matplotlib\n",
    "import matplotlib.pyplot as plt"
   ]
  },
  {
   "cell_type": "code",
   "execution_count": 55,
   "id": "653b845a",
   "metadata": {},
   "outputs": [
    {
     "data": {
      "text/plain": [
       "(array([[13.78731721,  1.73323541],\n",
       "        [10.68075246,  3.87600675],\n",
       "        [ 8.09139034,  0.36429043],\n",
       "        [10.80129018,  6.34922981],\n",
       "        [ 8.78819007,  2.53766878]]),\n",
       " array([0, 1, 1, 1, 0]))"
      ]
     },
     "execution_count": 55,
     "metadata": {},
     "output_type": "execute_result"
    }
   ],
   "source": [
    "X, y = datasets.make_blobs(n_samples=100, random_state=4, centers=2, cluster_std=2)\n",
    "X[:5], y[:5]"
   ]
  },
  {
   "cell_type": "code",
   "execution_count": 49,
   "id": "b106cc48",
   "metadata": {},
   "outputs": [],
   "source": [
    "# X[:, :1]\n",
    "# X[:, 1:]"
   ]
  },
  {
   "cell_type": "code",
   "execution_count": 56,
   "id": "4e8364d6",
   "metadata": {},
   "outputs": [
    {
     "data": {
      "text/plain": [
       "<matplotlib.collections.PathCollection at 0x1bf1d349070>"
      ]
     },
     "execution_count": 56,
     "metadata": {},
     "output_type": "execute_result"
    },
    {
     "data": {
      "image/png": "[encoded data removed]",
      "text/plain": [
       "<Figure size 432x288 with 1 Axes>"
      ]
     },
     "metadata": {
      "needs_background": "light"
     },
     "output_type": "display_data"
    }
   ],
   "source": [
    "plt.scatter(X[:,:1], X[:, 1:])"
   ]
  },
  {
   "cell_type": "code",
   "execution_count": 12,
   "id": "0cf1b784",
   "metadata": {},
   "outputs": [
    {
     "data": {
      "text/plain": [
       "(100,)"
      ]
     },
     "execution_count": 12,
     "metadata": {},
     "output_type": "execute_result"
    }
   ],
   "source": [
    "y.shape"
   ]
  },
  {
   "cell_type": "code",
   "execution_count": null,
   "id": "ff54e2e8",
   "metadata": {},
   "outputs": [],
   "source": []
  }
 ],
 "metadata": {
  "kernelspec": {
   "display_name": "Python 3",
   "language": "python",
   "name": "python3"
  },
  "language_info": {
   "codemirror_mode": {
    "name": "ipython",
    "version": 3
   },
   "file_extension": ".py",
   "mimetype": "text/x-python",
   "name": "python",
   "nbconvert_exporter": "python",
   "pygments_lexer": "ipython3",
   "version": "3.8.8"
  }
 },
 "nbformat": 4,
 "nbformat_minor": 5
}
